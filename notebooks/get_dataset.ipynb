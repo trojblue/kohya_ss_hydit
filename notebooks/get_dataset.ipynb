{
 "cells": [
  {
   "cell_type": "code",
   "execution_count": 3,
   "metadata": {},
   "outputs": [],
   "source": [
    "import os\n",
    "from tqdm.auto import tqdm\n",
    "\n",
    "import s5cmdpy\n",
    "import unibox as ub"
   ]
  },
  {
   "cell_type": "code",
   "execution_count": 4,
   "metadata": {},
   "outputs": [
    {
     "name": "stderr",
     "output_type": "stream",
     "text": [
      "2024-07-29 19:34:08,461 [INFO] UniLogger: UniLoader.loads: .parquet LOADED from \"/rmt/image_data/data_catalog/data_catalog/gold/dset_all_v5c.parquet\" in 27.85s\n"
     ]
    },
    {
     "name": "stdout",
     "output_type": "stream",
     "text": [
      "(4688203, 34)\n",
      "Index(['index_num', 'filename', 's3_uri', 'pixiv__pid', 'clip__clip_aesthetic',\n",
      "       'pixiv__likeCount', 'pixiv__viewCount', 'pixiv__bookmarkCount',\n",
      "       'pixiv__aiType', 'pixiv__compound_score', 'caption',\n",
      "       'aigccls__aigc_pred', 'aigccls__is_likely-ai', 'dset__pixels',\n",
      "       'dset__from', 'danbooru_id', 'danbooru__up_score',\n",
      "       'danbooru__down_score', 'danbooru__fav_count', 'danbooru__is_banned',\n",
      "       'danbooru__tag_string_artist', 'danbooru__tag_string_character',\n",
      "       'clip__twitter_aesthetic_v2', 'comps__comp_score_pred',\n",
      "       'resized__resized_s3_uri', 'clip_aesthetic_2_5',\n",
      "       'danbooru__quality_tag', 'twitter__favorite_count', 'twitter__hashtags',\n",
      "       'twitter__compound_score', 'twitter__quality_tag', 'dset__quality_tag',\n",
      "       'dset__artist_occurence_count', 'dset__row_cap_dict'],\n",
      "      dtype='object')\n"
     ]
    },
    {
     "data": {
      "text/html": [
       "<div>\n",
       "<style scoped>\n",
       "    .dataframe tbody tr th:only-of-type {\n",
       "        vertical-align: middle;\n",
       "    }\n",
       "\n",
       "    .dataframe tbody tr th {\n",
       "        vertical-align: top;\n",
       "    }\n",
       "\n",
       "    .dataframe thead th {\n",
       "        text-align: right;\n",
       "    }\n",
       "</style>\n",
       "<table border=\"1\" class=\"dataframe\">\n",
       "  <thead>\n",
       "    <tr style=\"text-align: right;\">\n",
       "      <th></th>\n",
       "      <th>index_num</th>\n",
       "      <th>filename</th>\n",
       "      <th>s3_uri</th>\n",
       "      <th>pixiv__pid</th>\n",
       "      <th>clip__clip_aesthetic</th>\n",
       "      <th>pixiv__likeCount</th>\n",
       "      <th>pixiv__viewCount</th>\n",
       "      <th>pixiv__bookmarkCount</th>\n",
       "      <th>pixiv__aiType</th>\n",
       "      <th>pixiv__compound_score</th>\n",
       "      <th>...</th>\n",
       "      <th>resized__resized_s3_uri</th>\n",
       "      <th>clip_aesthetic_2_5</th>\n",
       "      <th>danbooru__quality_tag</th>\n",
       "      <th>twitter__favorite_count</th>\n",
       "      <th>twitter__hashtags</th>\n",
       "      <th>twitter__compound_score</th>\n",
       "      <th>twitter__quality_tag</th>\n",
       "      <th>dset__quality_tag</th>\n",
       "      <th>dset__artist_occurence_count</th>\n",
       "      <th>dset__row_cap_dict</th>\n",
       "    </tr>\n",
       "  </thead>\n",
       "  <tbody>\n",
       "    <tr>\n",
       "      <th>0</th>\n",
       "      <td>25</td>\n",
       "      <td>85967624_p0.jpg</td>\n",
       "      <td>s3://dataset-pixiv/artworks/85967624/85967624_...</td>\n",
       "      <td>85967624</td>\n",
       "      <td>5.76800</td>\n",
       "      <td>667.0</td>\n",
       "      <td>5547.0</td>\n",
       "      <td>981.0</td>\n",
       "      <td>0.0</td>\n",
       "      <td>11.154647</td>\n",
       "      <td>...</td>\n",
       "      <td>&lt;NA&gt;</td>\n",
       "      <td>NaN</td>\n",
       "      <td>None</td>\n",
       "      <td>NaN</td>\n",
       "      <td>None</td>\n",
       "      <td>NaN</td>\n",
       "      <td>None</td>\n",
       "      <td>average quality</td>\n",
       "      <td>1722743</td>\n",
       "      <td>None</td>\n",
       "    </tr>\n",
       "    <tr>\n",
       "      <th>1</th>\n",
       "      <td>56</td>\n",
       "      <td>85967667_p0.jpg</td>\n",
       "      <td>s3://dataset-pixiv/artworks/85967667/85967667_...</td>\n",
       "      <td>85967667</td>\n",
       "      <td>6.38851</td>\n",
       "      <td>3972.0</td>\n",
       "      <td>33782.0</td>\n",
       "      <td>6720.0</td>\n",
       "      <td>0.0</td>\n",
       "      <td>13.333247</td>\n",
       "      <td>...</td>\n",
       "      <td>s3://unidataset-danbooru/resized_1310720/image...</td>\n",
       "      <td>6.234648</td>\n",
       "      <td>average quality</td>\n",
       "      <td>NaN</td>\n",
       "      <td>None</td>\n",
       "      <td>NaN</td>\n",
       "      <td>None</td>\n",
       "      <td>good quality</td>\n",
       "      <td>105</td>\n",
       "      <td>None</td>\n",
       "    </tr>\n",
       "    <tr>\n",
       "      <th>2</th>\n",
       "      <td>93</td>\n",
       "      <td>85967719_p0.jpg</td>\n",
       "      <td>s3://dataset-pixiv/artworks/85967719/85967719_...</td>\n",
       "      <td>85967719</td>\n",
       "      <td>6.14013</td>\n",
       "      <td>589.0</td>\n",
       "      <td>5614.0</td>\n",
       "      <td>949.0</td>\n",
       "      <td>0.0</td>\n",
       "      <td>12.345294</td>\n",
       "      <td>...</td>\n",
       "      <td>&lt;NA&gt;</td>\n",
       "      <td>NaN</td>\n",
       "      <td>None</td>\n",
       "      <td>NaN</td>\n",
       "      <td>None</td>\n",
       "      <td>NaN</td>\n",
       "      <td>None</td>\n",
       "      <td>average quality</td>\n",
       "      <td>1722743</td>\n",
       "      <td>None</td>\n",
       "    </tr>\n",
       "  </tbody>\n",
       "</table>\n",
       "<p>3 rows × 34 columns</p>\n",
       "</div>"
      ],
      "text/plain": [
       "   index_num         filename  \\\n",
       "0         25  85967624_p0.jpg   \n",
       "1         56  85967667_p0.jpg   \n",
       "2         93  85967719_p0.jpg   \n",
       "\n",
       "                                              s3_uri  pixiv__pid  \\\n",
       "0  s3://dataset-pixiv/artworks/85967624/85967624_...    85967624   \n",
       "1  s3://dataset-pixiv/artworks/85967667/85967667_...    85967667   \n",
       "2  s3://dataset-pixiv/artworks/85967719/85967719_...    85967719   \n",
       "\n",
       "   clip__clip_aesthetic  pixiv__likeCount  pixiv__viewCount  \\\n",
       "0               5.76800             667.0            5547.0   \n",
       "1               6.38851            3972.0           33782.0   \n",
       "2               6.14013             589.0            5614.0   \n",
       "\n",
       "   pixiv__bookmarkCount  pixiv__aiType  pixiv__compound_score  ...  \\\n",
       "0                 981.0            0.0              11.154647  ...   \n",
       "1                6720.0            0.0              13.333247  ...   \n",
       "2                 949.0            0.0              12.345294  ...   \n",
       "\n",
       "                             resized__resized_s3_uri clip_aesthetic_2_5  \\\n",
       "0                                               <NA>                NaN   \n",
       "1  s3://unidataset-danbooru/resized_1310720/image...           6.234648   \n",
       "2                                               <NA>                NaN   \n",
       "\n",
       "   danbooru__quality_tag  twitter__favorite_count twitter__hashtags  \\\n",
       "0                   None                      NaN              None   \n",
       "1        average quality                      NaN              None   \n",
       "2                   None                      NaN              None   \n",
       "\n",
       "   twitter__compound_score  twitter__quality_tag  dset__quality_tag  \\\n",
       "0                      NaN                  None    average quality   \n",
       "1                      NaN                  None       good quality   \n",
       "2                      NaN                  None    average quality   \n",
       "\n",
       "   dset__artist_occurence_count dset__row_cap_dict  \n",
       "0                       1722743               None  \n",
       "1                           105               None  \n",
       "2                       1722743               None  \n",
       "\n",
       "[3 rows x 34 columns]"
      ]
     },
     "metadata": {},
     "output_type": "display_data"
    }
   ],
   "source": [
    "v5c_path =  \"/rmt/image_data/data_catalog/data_catalog/gold/dset_all_v5c.parquet\"\n",
    "v5c_df = ub.loads(v5c_path)\n",
    "\n",
    "ub.peeks(v5c_df)"
   ]
  },
  {
   "cell_type": "code",
   "execution_count": 5,
   "metadata": {},
   "outputs": [
    {
     "data": {
      "text/plain": [
       "1515328"
      ]
     },
     "execution_count": 5,
     "metadata": {},
     "output_type": "execute_result"
    }
   ],
   "source": [
    "v5c_better_df = v5c_df[v5c_df[\"dset__quality_tag\"].isin([\"good quality\", \"best quality\"])]\n",
    "len(v5c_better_df)"
   ]
  },
  {
   "cell_type": "code",
   "execution_count": 6,
   "metadata": {},
   "outputs": [
    {
     "data": {
      "text/plain": [
       "{'metadata': {'len': 1000, 'item_type': 'str'},\n",
       " 'preview': ['s3://unidataset-danbooru/images/image_6253406/image_6253406.jpg',\n",
       "  's3://unidataset-danbooru/images/image_3135690/image_3135690.jpg',\n",
       "  's3://unidataset-danbooru/images/image_6249994/image_6249994.jpg']}"
      ]
     },
     "execution_count": 6,
     "metadata": {},
     "output_type": "execute_result"
    }
   ],
   "source": [
    "sample_imgs = v5c_better_df.sample(1000)\n",
    "sample_uris = sample_imgs[\"s3_uri\"].tolist()\n",
    "ub.peeks(sample_uris)"
   ]
  },
  {
   "cell_type": "code",
   "execution_count": 7,
   "metadata": {},
   "outputs": [
    {
     "data": {
      "application/vnd.jupyter.widget-view+json": {
       "model_id": "2e0d6e881d484928941f3adbb2d2e9bc",
       "version_major": 2,
       "version_minor": 0
      },
      "text/plain": [
       "[interval=5] running s5cmd:   0%|          | 0/1000 [00:00<?, ?it/s]"
      ]
     },
     "metadata": {},
     "output_type": "display_data"
    }
   ],
   "source": [
    "IMG_ROOT_DIR = \"/lv0/kohya_datasets\"\n",
    "\n",
    "\n",
    "curr_img_dir = \"small_test_1k\"\n",
    "_curr_img_dir = f\"{IMG_ROOT_DIR}/{curr_img_dir}\"\n",
    "os.makedirs(_curr_img_dir, exist_ok=True)\n",
    "\n",
    "\n",
    "subdir_name = \"1\"\n",
    "_subdir_name = f\"{_curr_img_dir}/{subdir_name}\"\n",
    "os.makedirs(_subdir_name, exist_ok=True)\n",
    "\n",
    "\n",
    "s5cmdpy.download_from_s3_list(sample_uris, _subdir_name)"
   ]
  },
  {
   "cell_type": "code",
   "execution_count": 8,
   "metadata": {},
   "outputs": [
    {
     "name": "stdout",
     "output_type": "stream",
     "text": [
      "1001\n"
     ]
    }
   ],
   "source": [
    "!ls -l {_subdir_name} | wc -l"
   ]
  },
  {
   "cell_type": "code",
   "execution_count": 9,
   "metadata": {},
   "outputs": [
    {
     "data": {
      "text/plain": [
       "'/lv0/kohya_datasets/small_test_1k/1'"
      ]
     },
     "execution_count": 9,
     "metadata": {},
     "output_type": "execute_result"
    }
   ],
   "source": [
    "_subdir_name"
   ]
  },
  {
   "cell_type": "code",
   "execution_count": 10,
   "metadata": {},
   "outputs": [
    {
     "name": "stderr",
     "output_type": "stream",
     "text": [
      "                                          \r"
     ]
    },
    {
     "data": {
      "application/vnd.jupyter.widget-view+json": {
       "model_id": "265502516dd24fd99d6f1ccd3a5e2a4b",
       "version_major": 2,
       "version_minor": 0
      },
      "text/plain": [
       "saving txt files to /lv0/kohya_datasets/small_test_1k/1:   0%|          | 0/1000 [00:00<?, ?it/s]"
      ]
     },
     "metadata": {},
     "output_type": "display_data"
    }
   ],
   "source": [
    "from dataproc4.utils.string_utils import safe_concat, safe_split_tag_string\n",
    "\n",
    "def cap_dict_to_str_temp_character(cap_dict):\n",
    "    \"\"\"把一个dataproc4格式的caption dict转换成临时ft用的txt\n",
    "    \"\"\"\n",
    "    tff = cap_dict.get(\"tags_front_fixed\", \"\")  # artist\n",
    "    tf = cap_dict.get(\"tags_front\", \"\")         # character\n",
    "    tm = cap_dict.get(\"tags_mid\", \"\")           # general\n",
    "    tm_alt = cap_dict.get(\"alternate_tags_mid\", \"\")  # natural language\n",
    "    tb = cap_dict.get(\"tags_back\", \"\")          # quality\n",
    "\n",
    "    tm_alt = tm_alt[0] if len(tm_alt) > 0 else \"\"\n",
    "\n",
    "    tm_tags = safe_split_tag_string(tm)\n",
    "    # max_tags = min(55, len(tm_tags))\n",
    "    # sample_size = random.randint(5, max_tags) if len(tm_tags) >= 5 else len(tm_tags)\n",
    "    # tm_tags = random.sample(tm_tags, sample_size)\n",
    "    \n",
    "    return safe_concat([tf], tm_tags, [tm_alt, tb])   # do not add artist tag\n",
    "\n",
    "def write_captions_to_txt(cap_dict, output_dir):\n",
    "    for k, v in tqdm(cap_dict.items(), desc=f\"saving txt files to {output_dir}\"):\n",
    "        txt_content = cap_dict_to_str_temp_character(v)\n",
    "        if not txt_content:\n",
    "            print(\"NO CAPTION: \", k)\n",
    "        txt_filename = os.path.join(output_dir, f\"{k.split('.')[0]}.txt\")\n",
    "\n",
    "        os.makedirs(output_dir, exist_ok=True)\n",
    "        ub.saves(txt_content, txt_filename, debug_print=False)\n",
    "\n",
    "        \n",
    "\n",
    "img_files = ub.traverses(_subdir_name, ub.IMG_FILES)\n",
    "\n",
    "\n",
    "# create a txt for each img file\n",
    "file_cap_dict = sample_imgs[[\"filename\", \"caption\"]].set_index(\"filename\").to_dict()[\"caption\"]\n",
    "write_captions_to_txt(file_cap_dict, _subdir_name)"
   ]
  },
  {
   "cell_type": "code",
   "execution_count": 11,
   "metadata": {},
   "outputs": [
    {
     "name": "stderr",
     "output_type": "stream",
     "text": [
      "                                          \r"
     ]
    },
    {
     "data": {
      "application/vnd.jupyter.widget-view+json": {
       "model_id": "2d90ddbf375f46578e6391c1d73257e2",
       "version_major": 2,
       "version_minor": 0
      },
      "text/plain": [
       "Loading batches:   0%|          | 0/1000 [00:00<?, ?it/s]"
      ]
     },
     "metadata": {},
     "output_type": "display_data"
    }
   ],
   "source": [
    "txts = ub.traverses(\"/lv0/kohya_datasets/small_test_1k/1\", [\".txt\"])\n",
    "txts_content = ub.concurrent_loads(txts)\n",
    "\n",
    "for txt in txts_content:\n",
    "    if not txt:\n",
    "        print(\"EMPTY\")"
   ]
  }
 ],
 "metadata": {
  "kernelspec": {
   "display_name": "base",
   "language": "python",
   "name": "python3"
  },
  "language_info": {
   "codemirror_mode": {
    "name": "ipython",
    "version": 3
   },
   "file_extension": ".py",
   "mimetype": "text/x-python",
   "name": "python",
   "nbconvert_exporter": "python",
   "pygments_lexer": "ipython3",
   "version": "3.10.13"
  }
 },
 "nbformat": 4,
 "nbformat_minor": 2
}
